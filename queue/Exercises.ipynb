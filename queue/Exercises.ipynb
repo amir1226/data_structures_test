{
 "cells": [
  {
   "cell_type": "markdown",
   "metadata": {},
   "source": [
    "# Exercise 1\n",
    "\n",
    "Design a food ordering system where your python program will run two threads,\n",
    "\n",
    "1) Place Order: This thread will be placing an order and inserting that into a queue. This thread places new order every 0.5 second. (hint: use time.sleep(0.5) function)\n",
    "2) Serve Order: This thread will server the order. All you need to do is pop the order out of the queue and print it. This thread serves an order every 2 seconds. Also start this thread 1 second after place order thread is started.\n",
    "Use this video to get yourself familiar with multithreading in python\n",
    "\n",
    "Pass following list as an argument to place order thread,\n",
    "\n",
    "orders = ['pizza','samosa','pasta','biryani','burger']"
   ]
  },
  {
   "cell_type": "code",
   "execution_count": 17,
   "metadata": {},
   "outputs": [],
   "source": [
    "import threading\n",
    "from collections import deque\n",
    "import time\n",
    "\n",
    "class Queue:\n",
    "    \n",
    "    def __init__(self):\n",
    "        self.buffer = deque()\n",
    "    \n",
    "    def enqueue(self, val):\n",
    "        self.buffer.appendleft(val)\n",
    "        \n",
    "    def dequeue(self):\n",
    "        return self.buffer.pop()\n",
    "    \n",
    "    def is_empty(self):\n",
    "        return len(self.buffer)==0\n",
    "    \n",
    "    def size(self):\n",
    "        return len(self.buffer)\n",
    "\n",
    "orders_queue = Queue()\n",
    "\n",
    "def place_order(orders):\n",
    "    for order in orders:\n",
    "        orders_queue.enqueue(order)\n",
    "        print(order, \"added\")\n",
    "        time.sleep(0.5)\n",
    "\n",
    "def serve_order():\n",
    "    time.sleep(1.1)\n",
    "    while True:\n",
    "        try:\n",
    "            first_order = orders_queue.dequeue()\n",
    "            print(\"Serve order:\", first_order)\n",
    "            time.sleep(2)\n",
    "        except Exception as e:\n",
    "            print(\"No more orders\")\n",
    "            break"
   ]
  },
  {
   "cell_type": "code",
   "execution_count": 18,
   "metadata": {},
   "outputs": [
    {
     "name": "stdout",
     "output_type": "stream",
     "text": [
      "pizza added\n",
      "samosa added\n",
      "pasta added\n",
      "Serve order: pizza\n",
      "biryani added\n",
      "burger added\n",
      "Serve order: samosa\n",
      "Serve order: pasta\n",
      "Serve order: biryani\n",
      "Serve order: burger\n",
      "No more orders\n"
     ]
    }
   ],
   "source": [
    "orders = ['pizza','samosa','pasta','biryani','burger']\n",
    "t1 = threading.Thread(target=place_order, args = (orders,))\n",
    "t2 = threading.Thread(target=serve_order)\n",
    "\n",
    "t1.start()\n",
    "t2.start()"
   ]
  },
  {
   "cell_type": "markdown",
   "metadata": {},
   "source": [
    "# Exercise 2\n",
    "\n",
    "Write a program to print binary numbers from 1 to 10 using Queue. Use Queue class implemented in main tutorial. Binary sequence should look like:\n",
    "- 1\n",
    "- 10\n",
    "- 11\n",
    "- 100\n",
    "- 101\n",
    "- 110\n",
    "- 111\n",
    "- 1000\n",
    "- 1001\n",
    "- 1010\n",
    "\n",
    "Hint: Notice a pattern above. After 1 second and third number is 1+0 and 1+1. 4th and 5th number are second number (i.e. 10) + 0 and second number (i.e. 10) + 1.\n",
    "\n",
    "You also need to add front() function in queue class that can return the front element in the queue."
   ]
  },
  {
   "cell_type": "code",
   "execution_count": 19,
   "metadata": {},
   "outputs": [
    {
     "name": "stdout",
     "output_type": "stream",
     "text": [
      "    1\n",
      "    10\n",
      "    11\n",
      "    100\n",
      "    101\n",
      "    110\n",
      "    111\n",
      "    1000\n",
      "    1001\n",
      "    1010\n"
     ]
    }
   ],
   "source": [
    "from collections import deque\n",
    "\n",
    "class Queue:\n",
    "    def __init__(self):\n",
    "        self.buffer = deque()\n",
    "\n",
    "    def enqueue(self, val):\n",
    "        self.buffer.appendleft(val)\n",
    "\n",
    "    def dequeue(self):\n",
    "        if len(self.buffer)==0:\n",
    "            print(\"Queue is empty\")\n",
    "            return\n",
    "\n",
    "        return self.buffer.pop()\n",
    "\n",
    "    def is_empty(self):\n",
    "        return len(self.buffer) == 0\n",
    "\n",
    "    def size(self):\n",
    "        return len(self.buffer)\n",
    "\n",
    "    def front(self):\n",
    "        return self.buffer[-1]\n",
    "\n",
    "def produce_binary_numbers(n):\n",
    "    numbers_queue = Queue()\n",
    "    numbers_queue.enqueue(\"1\")\n",
    "\n",
    "    for i in range(n):\n",
    "        front = numbers_queue.front()\n",
    "        print(\"   \", front)\n",
    "        numbers_queue.enqueue(front + \"0\")\n",
    "        numbers_queue.enqueue(front + \"1\")\n",
    "\n",
    "        numbers_queue.dequeue()\n",
    "\n",
    "\n",
    "if __name__ == '__main__':\n",
    "    produce_binary_numbers(10)"
   ]
  }
 ],
 "metadata": {
  "interpreter": {
   "hash": "db7883d2bfcdadc3cf5a3a252618a07c86f37097c50045daf01c4c8351b975fc"
  },
  "kernelspec": {
   "display_name": "Python 3.9.7 64-bit ('first_env_amir': conda)",
   "name": "python3"
  },
  "language_info": {
   "codemirror_mode": {
    "name": "ipython",
    "version": 3
   },
   "file_extension": ".py",
   "mimetype": "text/x-python",
   "name": "python",
   "nbconvert_exporter": "python",
   "pygments_lexer": "ipython3",
   "version": "3.9.7"
  },
  "orig_nbformat": 4
 },
 "nbformat": 4,
 "nbformat_minor": 2
}
