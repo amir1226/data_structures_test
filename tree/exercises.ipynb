{
 "cells": [
  {
   "cell_type": "markdown",
   "metadata": {},
   "source": [
    "1. Below is the management hierarchy of a company.\n",
    "\n",
    "    ![image info](https://github.com/codebasics/data-structures-algorithms-python/raw/master/data_structures/7_Tree/management_both.PNG)\n",
    "\n",
    "Extent [tree class](https://github.com/codebasics/data-structures-algorithms-python/blob/master/data_structures/7_Tree/7_tree.py) built in our\n",
    "main tutorial so that it takes **name** and **designation** in data part of TreeNode class.\n",
    "Now extend print_tree function such that it can print either name tree, designation tree or name and designation tree. As shown below,\n",
    "\n",
    "   ![](https://github.com/codebasics/data-structures-algorithms-python/raw/master/data_structures/7_Tree/all_trees.png)\n",
    "\n",
    "Here is how your main function should will look like,\n",
    "```\n",
    "if __name__ == '__main__':\n",
    "    root_node = build_management_tree()\n",
    "    root_node.print_tree(\"name\") # prints only name hierarchy\n",
    "    root_node.print_tree(\"designation\") # prints only designation hierarchy\n",
    "    root_node.print_tree(\"both\") # prints both (name and designation) hierarchy\n",
    "```"
   ]
  },
  {
   "cell_type": "code",
   "execution_count": 24,
   "metadata": {},
   "outputs": [],
   "source": [
    "class TreeNode:\n",
    "    def __init__(self, name, designation):\n",
    "        self.name = name\n",
    "        self.designation = designation\n",
    "        self.children = []\n",
    "        self.parent = None\n",
    "\n",
    "    def add_child(self, child):\n",
    "        child.parent = self\n",
    "        self.children.append(child)\n",
    "\n",
    "    def remove_child(self, child):\n",
    "        self.children.remove(child)\n",
    "        child.parent = None\n",
    "\n",
    "    def get_level(self):\n",
    "        if self.parent:\n",
    "            return self.parent.get_level() + 1\n",
    "        else:\n",
    "            return 0\n",
    "\n",
    "    def print_tree(self, option):\n",
    "        spaces = ' ' * self.get_level() * 2\n",
    "        prefix = spaces + \"|__\" if self.parent else \"\"\n",
    "        if(option == \"name\"):\n",
    "            value = prefix + self.name\n",
    "        elif(option == \"designation\"):\n",
    "            value = prefix + self.designation\n",
    "        else:\n",
    "            value = prefix + self.name + f\" ({self.designation})\"\n",
    "\n",
    "        print(value)\n",
    "        if self.children:\n",
    "            for child in self.children:\n",
    "                child.print_tree(option)\n"
   ]
  },
  {
   "cell_type": "code",
   "execution_count": 25,
   "metadata": {},
   "outputs": [],
   "source": [
    "def build_management_tree():\n",
    "    root = TreeNode('Nilupul','CEO')\n",
    "\n",
    "    cto = TreeNode('Maria', 'CTO')\n",
    "    cto.add_child(TreeNode('Amir', 'Cloud Manager'))\n",
    "    cto.add_child(TreeNode('Juan' ,'App Manager'))\n",
    "\n",
    "    hr_head = TreeNode('Pedro', 'HR Head')\n",
    "    hr_head.add_child(TreeNode('Marta','Recruiment Manager'))\n",
    "    hr_head.add_child(TreeNode('Samuel', 'Policy Manager'))\n",
    "\n",
    "    root.add_child(cto)\n",
    "    root.add_child(hr_head)\n",
    "\n",
    "    return root"
   ]
  },
  {
   "cell_type": "code",
   "execution_count": 26,
   "metadata": {},
   "outputs": [
    {
     "name": "stdout",
     "output_type": "stream",
     "text": [
      "Nilupul\n",
      "  |__Maria\n",
      "    |__Amir\n",
      "    |__Juan\n",
      "  |__Pedro\n",
      "    |__Marta\n",
      "    |__Samuel\n",
      "CEO\n",
      "  |__CTO\n",
      "    |__Cloud Manager\n",
      "    |__App Manager\n",
      "  |__HR Head\n",
      "    |__Recruiment Manager\n",
      "    |__Policy Manager\n",
      "Nilupul (CEO)\n",
      "  |__Maria (CTO)\n",
      "    |__Amir (Cloud Manager)\n",
      "    |__Juan (App Manager)\n",
      "  |__Pedro (HR Head)\n",
      "    |__Marta (Recruiment Manager)\n",
      "    |__Samuel (Policy Manager)\n"
     ]
    }
   ],
   "source": [
    "\n",
    "if __name__ == '__main__':\n",
    "    root_node = build_management_tree()\n",
    "    root_node.print_tree(\"name\") # prints only name hierarchy\n",
    "    root_node.print_tree(\"designation\") # prints only designation hierarchy\n",
    "    root_node.print_tree(\"both\") # prints both (name and designation) hierarchy"
   ]
  },
  {
   "cell_type": "markdown",
   "metadata": {},
   "source": [
    "2. Build below location tree using **TreeNode** class\n",
    "\n",
    "    ![](https://github.com/codebasics/data-structures-algorithms-python/raw/master/data_structures/7_Tree/location_trees.png)\n",
    "\n",
    "Now modify print_tree method to take tree level as input. And that should print tree only upto that level as shown below,\n",
    "\n",
    "   ![](https://github.com/codebasics/data-structures-algorithms-python/raw/master/data_structures/7_Tree/location_trees_all.png)\n",
    "\n",
    "[Solution](https://github.com/codebasics/data-structures-algorithms-python/blob/master/data_structures/7_Tree/Exercise/location_hierarchy.py)\n"
   ]
  },
  {
   "cell_type": "code",
   "execution_count": 40,
   "metadata": {},
   "outputs": [],
   "source": [
    "class LocationTree(TreeNode):\n",
    "    def __init__(self, data):\n",
    "        self.data = data\n",
    "        self.children = []\n",
    "        self.parent = None\n",
    "        \n",
    "    def print_tree(self, level):\n",
    "        node_level = self.get_level()\n",
    "        if node_level > level:\n",
    "            return\n",
    "        spaces = ' ' * node_level * 2\n",
    "        prefix = spaces + \"|__\" if self.parent else \"\"\n",
    "        print(prefix + self.data)\n",
    "        if self.children:\n",
    "            for child in self.children:\n",
    "                child.print_tree(level)"
   ]
  },
  {
   "cell_type": "code",
   "execution_count": 35,
   "metadata": {},
   "outputs": [],
   "source": [
    "def build_location_tree():\n",
    "    root = LocationTree(\"Global\")\n",
    "\n",
    "    india = LocationTree(\"India\")\n",
    "\n",
    "    gujarat = LocationTree(\"Gujarat\")\n",
    "    gujarat.add_child(LocationTree(\"Ahmedabad\"))\n",
    "    gujarat.add_child(LocationTree(\"Baroda\"))\n",
    "\n",
    "    karnataka = LocationTree(\"Karnataka\")\n",
    "    karnataka.add_child(LocationTree(\"Bangluru\"))\n",
    "    karnataka.add_child(LocationTree(\"Mysore\"))\n",
    "\n",
    "    india.add_child(gujarat)\n",
    "    india.add_child(karnataka)\n",
    "\n",
    "    usa = LocationTree(\"USA\")\n",
    "\n",
    "    nj = LocationTree(\"New Jersey\")\n",
    "    nj.add_child(LocationTree(\"Princeton\"))\n",
    "    nj.add_child(LocationTree(\"Trenton\"))\n",
    "\n",
    "    california = LocationTree(\"California\")\n",
    "    california.add_child(LocationTree(\"San Francisco\"))\n",
    "    california.add_child(LocationTree(\"Mountain View\"))\n",
    "    california.add_child(LocationTree(\"Palo Alto\"))\n",
    "\n",
    "    usa.add_child(nj)\n",
    "    usa.add_child(california)\n",
    "\n",
    "    root.add_child(india)\n",
    "    root.add_child(usa)\n",
    "\n",
    "    return root"
   ]
  },
  {
   "cell_type": "code",
   "execution_count": 41,
   "metadata": {},
   "outputs": [
    {
     "name": "stdout",
     "output_type": "stream",
     "text": [
      "Global\n",
      "  |__India\n",
      "  |__USA\n",
      "Global\n",
      "  |__India\n",
      "    |__Gujarat\n",
      "      |__Ahmedabad\n",
      "      |__Baroda\n",
      "    |__Karnataka\n",
      "      |__Bangluru\n",
      "      |__Mysore\n",
      "  |__USA\n",
      "    |__New Jersey\n",
      "      |__Princeton\n",
      "      |__Trenton\n",
      "    |__California\n",
      "      |__San Francisco\n",
      "      |__Mountain View\n",
      "      |__Palo Alto\n"
     ]
    }
   ],
   "source": [
    "if __name__ == '__main__':\n",
    "    root_node = build_location_tree()\n",
    "    root_node.print_tree(1)\n",
    "    root_node.print_tree(3)"
   ]
  }
 ],
 "metadata": {
  "interpreter": {
   "hash": "65403d30963cf67b12874c3c6ade245796192ef0c9ad0c261c2e37850d613219"
  },
  "kernelspec": {
   "display_name": "Python 3.10.2 64-bit",
   "language": "python",
   "name": "python3"
  },
  "language_info": {
   "codemirror_mode": {
    "name": "ipython",
    "version": 3
   },
   "file_extension": ".py",
   "mimetype": "text/x-python",
   "name": "python",
   "nbconvert_exporter": "python",
   "pygments_lexer": "ipython3",
   "version": "3.10.2"
  },
  "orig_nbformat": 4
 },
 "nbformat": 4,
 "nbformat_minor": 2
}
